{
  "nbformat": 4,
  "nbformat_minor": 0,
  "metadata": {
    "colab": {
      "name": "aiass1.ipynb",
      "version": "0.3.2",
      "provenance": [],
      "include_colab_link": true
    },
    "kernelspec": {
      "name": "python3",
      "display_name": "Python 3"
    },
    "accelerator": "GPU"
  },
  "cells": [
    {
      "cell_type": "markdown",
      "metadata": {
        "id": "view-in-github",
        "colab_type": "text"
      },
      "source": [
        "<a href=\"https://colab.research.google.com/github/dharmesh312/AI-Course/blob/master/aiass1.ipynb\" target=\"_parent\"><img src=\"https://colab.research.google.com/assets/colab-badge.svg\" alt=\"Open In Colab\"/></a>"
      ]
    },
    {
      "metadata": {
        "id": "CJtJsyPYy8Rf",
        "colab_type": "code",
        "colab": {}
      },
      "cell_type": "code",
      "source": [
        "import matplotlib.pyplot as plt\n",
        "import numpy as np\n",
        "import tensorflow as tf\n",
        "import os\n",
        "from tensorflow.examples.tutorials.mnist import input_data\n"
      ],
      "execution_count": 0,
      "outputs": []
    },
    {
      "metadata": {
        "id": "yJ9iQwV1WhUg",
        "colab_type": "code",
        "outputId": "611d2550-43c8-4d9b-b669-3e74af2edff1",
        "colab": {
          "base_uri": "https://localhost:8080/",
          "height": 530
        }
      },
      "cell_type": "code",
      "source": [
        "mnist = input_data.read_data_sets(\"MNIST_data/\", one_hot=True)\n",
        "\n",
        "test_data_images  = mnist.test.images\n",
        "train_data_images = mnist.train.images\n",
        "valid_data_images = mnist.validation.images\n",
        "\n",
        "test_data_labels  = mnist.test.labels\n",
        "train_data_labels = mnist.train.labels\n",
        "valid_data_labels = mnist.validation.labels"
      ],
      "execution_count": 0,
      "outputs": [
        {
          "output_type": "stream",
          "text": [
            "WARNING:tensorflow:From <ipython-input-2-4dd491012823>:1: read_data_sets (from tensorflow.contrib.learn.python.learn.datasets.mnist) is deprecated and will be removed in a future version.\n",
            "Instructions for updating:\n",
            "Please use alternatives such as official/mnist/dataset.py from tensorflow/models.\n",
            "WARNING:tensorflow:From /usr/local/lib/python3.6/dist-packages/tensorflow/contrib/learn/python/learn/datasets/mnist.py:260: maybe_download (from tensorflow.contrib.learn.python.learn.datasets.base) is deprecated and will be removed in a future version.\n",
            "Instructions for updating:\n",
            "Please write your own downloading logic.\n",
            "WARNING:tensorflow:From /usr/local/lib/python3.6/dist-packages/tensorflow/contrib/learn/python/learn/datasets/base.py:252: _internal_retry.<locals>.wrap.<locals>.wrapped_fn (from tensorflow.contrib.learn.python.learn.datasets.base) is deprecated and will be removed in a future version.\n",
            "Instructions for updating:\n",
            "Please use urllib or similar directly.\n",
            "Successfully downloaded train-images-idx3-ubyte.gz 9912422 bytes.\n",
            "WARNING:tensorflow:From /usr/local/lib/python3.6/dist-packages/tensorflow/contrib/learn/python/learn/datasets/mnist.py:262: extract_images (from tensorflow.contrib.learn.python.learn.datasets.mnist) is deprecated and will be removed in a future version.\n",
            "Instructions for updating:\n",
            "Please use tf.data to implement this functionality.\n",
            "Extracting MNIST_data/train-images-idx3-ubyte.gz\n",
            "Successfully downloaded train-labels-idx1-ubyte.gz 28881 bytes.\n",
            "WARNING:tensorflow:From /usr/local/lib/python3.6/dist-packages/tensorflow/contrib/learn/python/learn/datasets/mnist.py:267: extract_labels (from tensorflow.contrib.learn.python.learn.datasets.mnist) is deprecated and will be removed in a future version.\n",
            "Instructions for updating:\n",
            "Please use tf.data to implement this functionality.\n",
            "Extracting MNIST_data/train-labels-idx1-ubyte.gz\n",
            "WARNING:tensorflow:From /usr/local/lib/python3.6/dist-packages/tensorflow/contrib/learn/python/learn/datasets/mnist.py:110: dense_to_one_hot (from tensorflow.contrib.learn.python.learn.datasets.mnist) is deprecated and will be removed in a future version.\n",
            "Instructions for updating:\n",
            "Please use tf.one_hot on tensors.\n",
            "Successfully downloaded t10k-images-idx3-ubyte.gz 1648877 bytes.\n",
            "Extracting MNIST_data/t10k-images-idx3-ubyte.gz\n",
            "Successfully downloaded t10k-labels-idx1-ubyte.gz 4542 bytes.\n",
            "Extracting MNIST_data/t10k-labels-idx1-ubyte.gz\n",
            "WARNING:tensorflow:From /usr/local/lib/python3.6/dist-packages/tensorflow/contrib/learn/python/learn/datasets/mnist.py:290: DataSet.__init__ (from tensorflow.contrib.learn.python.learn.datasets.mnist) is deprecated and will be removed in a future version.\n",
            "Instructions for updating:\n",
            "Please use alternatives such as official/mnist/dataset.py from tensorflow/models.\n"
          ],
          "name": "stdout"
        }
      ]
    },
    {
      "metadata": {
        "id": "BC71TfBN3nB_",
        "colab_type": "code",
        "outputId": "e568e341-2f36-4826-c10f-a4ab5405d016",
        "colab": {
          "base_uri": "https://localhost:8080/",
          "height": 122
        }
      },
      "cell_type": "code",
      "source": [
        "!apt-get install -y -qq software-properties-common python-software-properties module-init-tools\n",
        "!add-apt-repository -y ppa:alessandro-strada/ppa 2>&1 > /dev/null\n",
        "!apt-get update -qq 2>&1 > /dev/null\n",
        "!apt-get -y install -qq google-drive-ocamlfuse fuse\n",
        "from google.colab import auth\n",
        "auth.authenticate_user()\n",
        "from oauth2client.client import GoogleCredentials\n",
        "creds = GoogleCredentials.get_application_default()\n",
        "import getpass\n",
        "!google-drive-ocamlfuse -headless -id={creds.client_id} -secret={creds.client_secret} < /dev/null 2>&1 | grep URL\n",
        "vcode = getpass.getpass()\n",
        "!echo {vcode} | google-drive-ocamlfuse -headless -id={creds.client_id} -secret={creds.client_secret}"
      ],
      "execution_count": 0,
      "outputs": [
        {
          "output_type": "stream",
          "text": [
            "E: Package 'python-software-properties' has no installation candidate\n",
            "Please, open the following URL in a web browser: https://accounts.google.com/o/oauth2/auth?client_id=32555940559.apps.googleusercontent.com&redirect_uri=urn%3Aietf%3Awg%3Aoauth%3A2.0%3Aoob&scope=https%3A%2F%2Fwww.googleapis.com%2Fauth%2Fdrive&response_type=code&access_type=offline&approval_prompt=force\n",
            "··········\n",
            "Please, open the following URL in a web browser: https://accounts.google.com/o/oauth2/auth?client_id=32555940559.apps.googleusercontent.com&redirect_uri=urn%3Aietf%3Awg%3Aoauth%3A2.0%3Aoob&scope=https%3A%2F%2Fwww.googleapis.com%2Fauth%2Fdrive&response_type=code&access_type=offline&approval_prompt=force\n",
            "Please enter the verification code: Access token retrieved correctly.\n"
          ],
          "name": "stdout"
        }
      ]
    },
    {
      "metadata": {
        "id": "xkFXVV7Q3r2V",
        "colab_type": "code",
        "colab": {}
      },
      "cell_type": "code",
      "source": [
        "\n",
        "!mkdir -p drive\n",
        "!google-drive-ocamlfuse drive\n"
      ],
      "execution_count": 0,
      "outputs": []
    },
    {
      "metadata": {
        "id": "l5LsJO7XjDTD",
        "colab_type": "code",
        "colab": {}
      },
      "cell_type": "code",
      "source": [
        "weightsAndBiases = {\"Weights\" : tf.Variable(tf.truncated_normal([784,500], mean = 0 ,stddev = 0.1))  , \"hiddenBiases\"  :  tf.Variable(tf.zeros(500)) , \"visibleBiases\"  :  tf.Variable(tf.zeros(784)) }\n",
        "k = 20\n",
        "lr = tf.placeholder(tf.float32)\n"
      ],
      "execution_count": 0,
      "outputs": []
    },
    {
      "metadata": {
        "id": "yLoabHFzmAdy",
        "colab_type": "code",
        "colab": {}
      },
      "cell_type": "code",
      "source": [
        "def prop_up(visible):\n",
        "\t\tpreSigmoidActivation = tf.matmul(visible, weightsAndBiases[\"Weights\"]) + weightsAndBiases[\"hiddenBiases\"]\n",
        "\t\treturn tf.nn.sigmoid(preSigmoidActivation)\n",
        "  \n",
        "\n",
        "def prop_down(hidden):\n",
        "\t\tpreSigmoidActivation = tf.matmul(hidden, tf.transpose(weightsAndBiases[\"Weights\"])) + weightsAndBiases[\"visibleBiases\"]\n",
        "\t\treturn tf.nn.sigmoid(preSigmoidActivation)\n",
        "\n",
        "  \n",
        "def sample_h_given_v(visible_sample):\n",
        "\t\thidden_props = prop_up(visible_sample)\n",
        "\t\thidden_sample = tf.nn.relu(tf.sign(hidden_props - tf.random_uniform(tf.shape(hidden_props))))\n",
        "\t\treturn hidden_sample  \n",
        "  \n",
        "def sample_v_given_h(hidden_sample):\n",
        "\t\tvisible_props = prop_down(hidden_sample)\n",
        "\t\tvisible_sample = tf.nn.relu(tf.sign(visible_props - tf.random_uniform(tf.shape(visible_props))))\n",
        "\t\treturn visible_sample  \n",
        "  \n",
        "\n",
        "def CD_k(visibles):       \n",
        "\t\t# k steps gibbs sampling\n",
        "\t\tvisible_sample = visibles\n",
        "\t\thidden_sample = sample_h_given_v(visible_sample)\n",
        "\t\tfor i in range(k):\n",
        "\t\t\tvisible_sample = sample_v_given_h(hidden_sample)\n",
        "\t\t\thidden_sample = sample_h_given_v(visible_sample)\n",
        "\t\t\n",
        "\t\th0_props = prop_up(visibles)\n",
        "\t\tw_positive_grad = tf.matmul(tf.transpose(visibles), h0_props)\n",
        "\t\tw_negative_grad = tf.matmul(tf.transpose(visible_sample), hidden_sample)\n",
        "\t\tw_grad = (w_positive_grad - w_negative_grad) / tf.to_float(tf.shape(visibles)[0])\n",
        "\t\thb_grad = tf.reduce_mean(h0_props - hidden_sample, 0)\n",
        "\t\tvb_grad = tf.reduce_mean(visibles - visible_sample, 0)\n",
        "\t\treturn w_grad, hb_grad, vb_grad  \n",
        "  \n",
        "\n",
        "def learn( visibles):\n",
        "\t\tw_grad, hb_grad, vb_grad = CD_k(visibles)\n",
        "\t\t# compute new velocities\n",
        "\t\tnew_w_v =  lr * w_grad\n",
        "\t\tnew_hb_v = lr * hb_grad\n",
        "\t\tnew_vb_v = lr * vb_grad\n",
        "\t\t# update parameters\n",
        "\t\tupdate_w = tf.assign(weightsAndBiases[\"Weights\"], weightsAndBiases[\"Weights\"] + new_w_v)\n",
        "\t\tupdate_hb = tf.assign(weightsAndBiases[\"hiddenBiases\"], weightsAndBiases[\"hiddenBiases\"] + new_hb_v)\n",
        "\t\tupdate_vb = tf.assign(weightsAndBiases[\"visibleBiases\"], weightsAndBiases[\"visibleBiases\"] + new_vb_v)\n",
        "\t\t\n",
        "\t\treturn [update_w, update_hb, update_vb]\n",
        "\n",
        "\n",
        "def sampler(visibles, steps=2000):\n",
        "\t\tvisible_sample = visibles\n",
        "\t\tfor step in range(steps):\n",
        "\t\t\tvisible_sample = sample_v_given_h(sample_h_given_v(visible_sample))\n",
        "\t\treturn visible_sample\n",
        "\n",
        "def free_energy( visibles):\n",
        "\t\tfirst_term = tf.matmul(visibles, tf.reshape(weightsAndBiases['visibleBiases'], [tf.shape(weightsAndBiases['visibleBiases'])[0], 1]))\n",
        "\t\tsecond_term = tf.reduce_sum(tf.log(1 + tf.exp(weightsAndBiases['hiddenBiases'] + tf.matmul(visibles, weightsAndBiases['Weights']))), axis=1)\n",
        "\t\treturn - first_term - second_term  \n",
        "  \n",
        "\n",
        "flipping = 0  \n",
        "def pseudo_likelihood(visibles,flipping):\n",
        "\t\tx = tf.round(visibles)\n",
        "\t\tx_fe = free_energy(x)\n",
        "\t\tsplit0, split1, split2 = tf.split(x, [flipping, 1, tf.shape(x)[1] - flipping - 1], 1)\n",
        "\t\txi = tf.concat([split0, 1 - split1, split2], 1)\n",
        "\t\tflipping = (flipping + 1) % 784\n",
        "\t\txi_fe = free_energy(xi)\n",
        "\t\treturn tf.reduce_mean(784 * tf.log(tf.nn.sigmoid(xi_fe - x_fe)), axis=0)  \n",
        "  "
      ],
      "execution_count": 0,
      "outputs": []
    },
    {
      "metadata": {
        "id": "rEyu3FTCsKHS",
        "colab_type": "code",
        "colab": {}
      },
      "cell_type": "code",
      "source": [
        "import scipy.misc\n",
        "\n",
        "def save_images(images, size, path):\n",
        "  img = (images + 1.0) / 2.0\n",
        "  h, w = img.shape[1], img.shape[2]\n",
        "  print (h,w)\n",
        "  merge_img = np.zeros((h * size[0], w * size[1]))\n",
        "  print (merge_img.shape)\n",
        "  for idx, image in enumerate(images):\n",
        "    i = idx % size[1]\n",
        "    j = idx // size[1]\n",
        "#     print(i,j)\n",
        "    if  (i <8 and j < 8):\n",
        "      merge_img[j*h:j*h+h, i*w:i*w+w] = image\n",
        "  return scipy.misc.imsave(path, merge_img)\n"
      ],
      "execution_count": 0,
      "outputs": []
    },
    {
      "metadata": {
        "id": "Ayx26mPBBJTY",
        "colab_type": "code",
        "colab": {}
      },
      "cell_type": "code",
      "source": [
        "from sklearn.utils import shuffle\n",
        "\n",
        "def train( epoches):\n",
        "  # directories to save samples and logs\n",
        "  \n",
        "  # markov chain start state\n",
        "  noise_x = test_data_images\n",
        "  batch_size = 64\n",
        "\n",
        "  # computation graph definition\n",
        "  x = tf.placeholder(tf.float32, shape=[None, 784])\n",
        "  step = learn(x)\n",
        "  samplerObject = sampler(x)\n",
        "\n",
        "  pl = pseudo_likelihood(x , flipping)\n",
        "\n",
        "  saver = tf.train.Saver()\n",
        "  \n",
        "  with tf.Session() as sess:\n",
        "    mean_cost = []\n",
        "    costList = []\n",
        "    epoch = 1\n",
        "    init = tf.global_variables_initializer()\n",
        "    sess.run(init)\n",
        "    for l in range(epoches):\n",
        "      # draw samples\n",
        "      if l % 10 == 0:\n",
        "        samples = sess.run(samplerObject, feed_dict = {x: noise_x})\n",
        "        samples = samples.reshape([len(noise_x), 28, 28])\n",
        "        save_images(samples, [8, 8], os.path.join(\"./drive/train\", 'iteration_%d.png' % l))\n",
        "#         print('Saved samples.')\n",
        "      \n",
        "      for j in range(int(mnist.train.num_examples / batch_size)):\n",
        "        batch_x , batch_y = mnist.train.next_batch(batch_size)\n",
        "        sess.run(step, feed_dict = {x: batch_x, lr: 0.1})\n",
        "        cost = sess.run(pl, feed_dict = {x: batch_x})\n",
        "        mean_cost.append(cost)\n",
        "      print('Epoch %d Cost %g' % (epoch, np.mean(mean_cost)))\n",
        "      costList.append(np.mean(mean_cost))\n",
        "      mean_cost = []  \n",
        "      epoch += 1\n",
        "\n",
        "\t\t# draw samples when training finished\n",
        "    plt.plot(costList)\n",
        "    plt.ylabel('Cost')\n",
        "    plt.xlabel('Epochs')\n",
        "    plt.title(\"Learning curve\")\n",
        "    plt.show()\n",
        "\t\t\n",
        "    print('Test')\n",
        "    \n",
        "    samples = sess.run(samplerObject, feed_dict = {x: noise_x})\n",
        "    samples = samples.reshape([len(noise_x), 28, 28])\n",
        "    save_images(samples, [8, 8], os.path.join(\"./drive/test/\", 'test.png'))\n",
        "    print('Saved samples.')"
      ],
      "execution_count": 0,
      "outputs": []
    },
    {
      "metadata": {
        "id": "HddHzhUQBZ1n",
        "colab_type": "code",
        "outputId": "c5264de6-fc08-4634-c6b2-791837e5598a",
        "colab": {
          "base_uri": "https://localhost:8080/",
          "height": 1532
        }
      },
      "cell_type": "code",
      "source": [
        "train(50)\n"
      ],
      "execution_count": 0,
      "outputs": [
        {
          "output_type": "stream",
          "text": [
            "28 28\n",
            "(224, 224)\n"
          ],
          "name": "stdout"
        },
        {
          "output_type": "stream",
          "text": [
            "/usr/local/lib/python3.6/dist-packages/ipykernel_launcher.py:15: DeprecationWarning: `imsave` is deprecated!\n",
            "`imsave` is deprecated in SciPy 1.0.0, and will be removed in 1.2.0.\n",
            "Use ``imageio.imwrite`` instead.\n",
            "  from ipykernel import kernelapp as app\n"
          ],
          "name": "stderr"
        },
        {
          "output_type": "stream",
          "text": [
            "Epoch 1 Cost -2.38987\n",
            "Epoch 2 Cost -0.367366\n",
            "Epoch 3 Cost -0.212934\n",
            "Epoch 4 Cost -0.157069\n",
            "Epoch 5 Cost -0.111256\n",
            "Epoch 6 Cost -0.0953077\n",
            "Epoch 7 Cost -0.0773178\n",
            "Epoch 8 Cost -0.0579541\n",
            "Epoch 9 Cost -0.0491552\n",
            "Epoch 10 Cost -0.0427805\n",
            "28 28\n",
            "(224, 224)\n",
            "Epoch 11 Cost -0.0399137\n",
            "Epoch 12 Cost -0.0361543\n",
            "Epoch 13 Cost -0.0324892\n",
            "Epoch 14 Cost -0.0304569\n",
            "Epoch 15 Cost -0.0281523\n",
            "Epoch 16 Cost -0.0273034\n",
            "Epoch 17 Cost -0.0254738\n",
            "Epoch 18 Cost -0.0245353\n",
            "Epoch 19 Cost -0.0237493\n",
            "Epoch 20 Cost -0.0237056\n",
            "28 28\n",
            "(224, 224)\n",
            "Epoch 21 Cost -0.0228078\n",
            "Epoch 22 Cost -0.0235328\n",
            "Epoch 23 Cost -0.0231675\n",
            "Epoch 24 Cost -0.0219824\n",
            "Epoch 25 Cost -0.0203632\n",
            "Epoch 26 Cost -0.0188074\n",
            "Epoch 27 Cost -0.0188136\n",
            "Epoch 28 Cost -0.0177381\n",
            "Epoch 29 Cost -0.0174699\n",
            "Epoch 30 Cost -0.0170826\n",
            "28 28\n",
            "(224, 224)\n",
            "Epoch 31 Cost -0.0165459\n",
            "Epoch 32 Cost -0.0161853\n",
            "Epoch 33 Cost -0.0167177\n",
            "Epoch 34 Cost -0.0143962\n",
            "Epoch 35 Cost -0.0143756\n",
            "Epoch 36 Cost -0.013517\n",
            "Epoch 37 Cost -0.0127725\n",
            "Epoch 38 Cost -0.012332\n",
            "Epoch 39 Cost -0.0129476\n",
            "Epoch 40 Cost -0.0130199\n",
            "28 28\n",
            "(224, 224)\n",
            "Epoch 41 Cost -0.0122403\n",
            "Epoch 42 Cost -0.0124852\n",
            "Epoch 43 Cost -0.0128797\n",
            "Epoch 44 Cost -0.0133691\n",
            "Epoch 45 Cost -0.0133871\n",
            "Epoch 46 Cost -0.0125804\n",
            "Epoch 47 Cost -0.0121058\n",
            "Epoch 48 Cost -0.0119302\n",
            "Epoch 49 Cost -0.0115021\n",
            "Epoch 50 Cost nan\n"
          ],
          "name": "stdout"
        },
        {
          "output_type": "display_data",
          "data": {
            "image/png": "[encoded data removed]",
            "text/plain": [
              "<Figure size 576x396 with 1 Axes>"
            ]
          },
          "metadata": {
            "tags": []
          }
        },
        {
          "output_type": "stream",
          "text": [
            "Test\n",
            "28 28\n",
            "(224, 224)\n",
            "Saved samples.\n"
          ],
          "name": "stdout"
        }
      ]
    },
    {
      "metadata": {
        "id": "p3UvOtEO_UKT",
        "colab_type": "code",
        "outputId": "5c33fbb3-2467-483d-868a-beb118872c86",
        "colab": {
          "base_uri": "https://localhost:8080/",
          "height": 34
        }
      },
      "cell_type": "code",
      "source": [
        "print (os.listdir(\"./drive/train\"))"
      ],
      "execution_count": 0,
      "outputs": [
        {
          "output_type": "stream",
          "text": [
            "[]\n"
          ],
          "name": "stdout"
        }
      ]
    }
  ]
}